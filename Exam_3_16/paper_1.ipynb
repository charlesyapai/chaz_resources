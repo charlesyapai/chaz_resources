{
 "cells": [
  {
   "cell_type": "markdown",
   "metadata": {},
   "source": [
    "# Introduction\n",
    "Hello! This is your first paper. This paper will test you on your basic syntaxes and functions knowledge in terms of pandas, numpy, python.\n",
    "\n",
    "## Examinations Rules:\n",
    "- You will be allowed to refer to pandas documentation for this test.\n",
    "- You will be allowed to refer to python documentation for this test.\n",
    "- You will be allowed to refer to numpy documentation for this test.\n",
    "- You will NOT be allowed to refer to chatgpt."
   ]
  },
  {
   "cell_type": "markdown",
   "metadata": {},
   "source": [
    "# Import Statements\n",
    "\n",
    "ALL your import statements must be in this section below."
   ]
  },
  {
   "cell_type": "code",
   "execution_count": null,
   "metadata": {},
   "outputs": [],
   "source": [
    "# Import statements"
   ]
  },
  {
   "cell_type": "markdown",
   "metadata": {},
   "source": [
    "# **Python Section A** "
   ]
  },
  {
   "cell_type": "code",
   "execution_count": 4,
   "metadata": {},
   "outputs": [
    {
     "name": "stdout",
     "output_type": "stream",
     "text": [
      "Question 0 Answer:\n",
      "The area of the circle is 78.53999999999999 .\n"
     ]
    }
   ],
   "source": [
    "# For each answer, add in \"Question # Answer:\\n\" at the beginning of the codeblock, AND in your output statement, like this:\n",
    "# Example: For Question 0: Calculate the area of the circle that has radius of 5.\n",
    "\n",
    "# Question 0 Answer:\n",
    "pie = 3.1416\n",
    "radius = 5\n",
    "area_of_circle = pie * radius**2\n",
    "\n",
    "print(\"Question 0 Answer:\\nThe area of the circle is\", area_of_circle, \".\")\n"
   ]
  },
  {
   "cell_type": "markdown",
   "metadata": {},
   "source": [
    "### Question 1: Print and Input Functions\n",
    "Write a Python script that prints \"Hello, World!\" to the console."
   ]
  },
  {
   "cell_type": "code",
   "execution_count": null,
   "metadata": {},
   "outputs": [],
   "source": [
    "# Question 1 Answer:\n"
   ]
  },
  {
   "cell_type": "markdown",
   "metadata": {},
   "source": [
    "### Question 2: Input Function\n",
    "Write a Python script that asks the user for their name using the input function, and then prints a greeting message using the name. For example, if the user inputs \"Alice\", the script should print \"Hello, Alice!\".\n"
   ]
  },
  {
   "cell_type": "code",
   "execution_count": null,
   "metadata": {},
   "outputs": [],
   "source": []
  },
  {
   "cell_type": "markdown",
   "metadata": {},
   "source": [
    "### Question 3: Data Types and Variables\n",
    "Create variables to store the following information and print each variable with its type:\n",
    "- Your age as an integer\n",
    "- Your height in meters as a float\n",
    "- Your first name as a string\n",
    "- Whether you are wearing glasses as a boolean\n",
    "\n",
    "**Part 2:** After storing each in a variable, use the `type()` function to print the type of each variable.\n"
   ]
  },
  {
   "cell_type": "code",
   "execution_count": null,
   "metadata": {},
   "outputs": [],
   "source": []
  },
  {
   "cell_type": "markdown",
   "metadata": {},
   "source": [
    "### Question 4: Basic Operations\n",
    "Perform the following arithmetic operations and print the results:\n",
    "- Add two integers\n",
    "- Subtract a float from an integer\n",
    "- Multiply two floats\n",
    "- Divide two integers and show the result as a float"
   ]
  },
  {
   "cell_type": "code",
   "execution_count": null,
   "metadata": {},
   "outputs": [],
   "source": []
  },
  {
   "cell_type": "markdown",
   "metadata": {},
   "source": [
    "### Question 5: If-Else Statements\n",
    "Write a script that asks the user for a number. If the number is greater than 10, print \"Greater than 10.\" If the number is less than 10, print \"Less than 10.\" If the number is exactly 10, print \"Equal to 10.\""
   ]
  },
  {
   "cell_type": "code",
   "execution_count": null,
   "metadata": {},
   "outputs": [],
   "source": []
  },
  {
   "cell_type": "markdown",
   "metadata": {},
   "source": [
    "### Question 6: For Loops\n",
    "Write a Python script that creates a list of five fruits (as strings). Use a for loop to iterate over this list and print each fruit on a separate line.\n"
   ]
  },
  {
   "cell_type": "code",
   "execution_count": null,
   "metadata": {},
   "outputs": [],
   "source": []
  },
  {
   "cell_type": "markdown",
   "metadata": {},
   "source": [
    "### Question 7: While Loops\n",
    "Write a Python script that keeps asking the user for input with the prompt \"Enter a command: \". \n",
    "\n",
    "If the user types \"exit\", the program should print \"Goodbye!\" and then stop. If the user types anything else, the program should print \"Command received: [input]\" and then ask for input again."
   ]
  },
  {
   "cell_type": "code",
   "execution_count": null,
   "metadata": {},
   "outputs": [],
   "source": []
  },
  {
   "cell_type": "markdown",
   "metadata": {},
   "source": [
    "### Question 8: Temperature Converter\n",
    "Write a Python script that converts a temperature from Fahrenheit to Celsius. First, ask the user to input a temperature in Fahrenheit. Then, convert the input to Celsius using the formula `(Fahrenheit - 32) * 5/9`. Print the result in the format: \"XX°F is YY°C.\", replacing XX with the Fahrenheit temperature and YY with the Celsius temperature."
   ]
  },
  {
   "cell_type": "code",
   "execution_count": null,
   "metadata": {},
   "outputs": [],
   "source": []
  },
  {
   "cell_type": "markdown",
   "metadata": {},
   "source": [
    "\n",
    "### Question 9: Simple Calculator\n",
    "Create a simple calculator that can perform addition, subtraction, multiplication, and division. The script should:\n",
    "1. Ask the user to input the first number.\n",
    "2. Ask the user to choose an operation (+, -, *, /).\n",
    "3. Ask the user to input the second number.\n",
    "4. Perform the operation and display the result in the format: \"The result of X [operation] Y is Z.\", ensuring to handle division by zero with an appropriate message."
   ]
  },
  {
   "cell_type": "code",
   "execution_count": null,
   "metadata": {},
   "outputs": [],
   "source": []
  },
  {
   "cell_type": "markdown",
   "metadata": {},
   "source": [
    "### Question 10: Odd or Even\n",
    "Write a script that asks the user to input a number. Use an if-else statement to determine if the number is odd or even. Print \"The number XX is odd.\" or \"The number XX is even.\", replacing XX with the actual number inputted."
   ]
  },
  {
   "cell_type": "code",
   "execution_count": null,
   "metadata": {},
   "outputs": [],
   "source": []
  },
  {
   "cell_type": "markdown",
   "metadata": {},
   "source": [
    "### Question 11: List Sum\n",
    "Using the list of numbers created in a previous question (or create a new list of integers), write a script that calculates the sum of the list without using the `sum()` function. Use a for loop to iterate through the list and add each number to a total sum variable, then print the result."
   ]
  },
  {
   "cell_type": "code",
   "execution_count": null,
   "metadata": {},
   "outputs": [],
   "source": []
  },
  {
   "cell_type": "markdown",
   "metadata": {},
   "source": [
    "### Question 12: Countdown Timer\n",
    "Write a Python script that functions as a countdown timer. First, ask the user to input the number of seconds they want to set the timer for. Then, use a while loop to count down to zero, printing each number. When the countdown reaches zero, print \"Time's up!\"."
   ]
  },
  {
   "cell_type": "code",
   "execution_count": null,
   "metadata": {},
   "outputs": [],
   "source": []
  },
  {
   "cell_type": "markdown",
   "metadata": {},
   "source": [
    "# **Statistics Implementation Section B**"
   ]
  },
  {
   "cell_type": "markdown",
   "metadata": {},
   "source": [
    "### Question 1\n",
    "\n",
    "Create a NumPy array of at least 10 integers representing ages of a group of people. Calculate and print the following statistics:\n",
    "- Mean age\n",
    "- Median age\n",
    "- Standard deviation of the ages\n",
    "- Variance of the ages\n",
    "\n",
    "Use NumPy functions to perform these calculations."
   ]
  },
  {
   "cell_type": "code",
   "execution_count": null,
   "metadata": {},
   "outputs": [],
   "source": []
  },
  {
   "cell_type": "markdown",
   "metadata": {},
   "source": [
    "### Question 2\n",
    "Generate a dataset of 100 random numbers using NumPy's `random` module, following a normal distribution with a mean of 50 and a standard deviation of 10. \n",
    "\n",
    "\n",
    "Part 2: Plot the histogram of this dataset using Matplotlib to visualize the distribution. \n",
    "\n",
    "\n",
    "Part 3: Label your axes.\n"
   ]
  },
  {
   "cell_type": "markdown",
   "metadata": {},
   "source": [
    "### Question 3\n",
    "\n",
    "Use SciPy to calculate the probability density of the normal distribution (mean = 0, standard deviation = 1) at x = 1. Also, calculate the cumulative distribution function (CDF) for the same distribution at x = 1. Print the results."
   ]
  },
  {
   "cell_type": "markdown",
   "metadata": {},
   "source": [
    "#### **Guide** This is going to walk you through the answer in this section"
   ]
  },
  {
   "cell_type": "markdown",
   "metadata": {},
   "source": [
    "**Step 1:** Importing Necessary Libraries\n",
    "First, ensure you have the SciPy library available in your environment. If not, you may need to install it into your environment using conda (`conda install scipy`). Then, start by importing the necessary module from SciPy:\n",
    "\n",
    "```python\n",
    "from scipy.stats import norm\n",
    "```\n",
    "\n",
    "**Step 2:** Calculating the Probability Density Function (PDF)\n",
    "To calculate the PDF at x = 1 for a standard normal distribution, use the pdf function available in the norm class of scipy.stats. The pdf function requires the location (loc) and scale (scale) parameters to define the mean and standard deviation of the normal distribution, respectively. For a standard normal distribution, the mean (loc) is 0, and the standard deviation (scale) is 1.\n",
    "\n",
    "```python\n",
    "# Calculate the PDF at x = 1 for a standard normal distribution\n",
    "pdf_value = norm.pdf(x=1, loc=0, scale=1)\n",
    "print(\"PDF at x = 1:\", pdf_value)\n",
    "```\n",
    "\n",
    "**Step 3:** Calculating the Cumulative Distribution Function (CDF)\n",
    "Next, calculate the CDF at x = 1 for the same standard normal distribution using the cdf function from the norm class. Similar to the PDF calculation, specify the mean and standard deviation with the loc and scale parameters.\n",
    "\n",
    "```python\n",
    "# Calculate the CDF at x = 1 for a standard normal distribution\n",
    "cdf_value = norm.cdf(x=1, loc=0, scale=1)\n",
    "print(\"CDF at x = 1:\", cdf_value)\n",
    "```\n",
    "\n",
    "\n",
    "**Step 4: Interpretation**\n",
    "\n",
    "After calculating the PDF and CDF, take a moment to interpret the results. The PDF value represents the probability density of the normal distribution at x = 1, whereas the CDF value indicates the probability that a random variable drawn from this distribution is less than or equal to 1.\n",
    "\n",
    "**Additional Notes**\n",
    "Remember, the PDF of a continuous random variable is not a probability itself, but a density. It can be used to find probabilities for intervals under the probability density curve.\n",
    "The CDF value at a specific point gives you the area under the curve of the probability density function to the left of that point.\n"
   ]
  },
  {
   "cell_type": "code",
   "execution_count": null,
   "metadata": {},
   "outputs": [],
   "source": []
  },
  {
   "cell_type": "markdown",
   "metadata": {},
   "source": [
    "### Question 4\n",
    "\n",
    "Given two arrays, `x` representing the hours studied and `y` representing the scores obtained by a group of students:\n",
    "\n",
    "x = [2, 3, 5, 7, 9]\n",
    "y = [4, 5, 7, 10, 15]\n",
    "\n",
    "Use SciPy or NumPy to calculate:\n",
    "- The Pearson correlation coefficient between hours studied and scores obtained.\n",
    "- Perform a linear regression analysis to find the slope and intercept of the line of best fit. Plot this line along with the scatter plot of the data points.\n",
    "\n"
   ]
  },
  {
   "cell_type": "markdown",
   "metadata": {},
   "source": [
    "#### **Hint**"
   ]
  },
  {
   "cell_type": "markdown",
   "metadata": {},
   "source": [
    "\n",
    "\n",
    "Pearson Correlation Coefficient\n",
    "\n",
    "Library: Use SciPy for this calculation.\n",
    "\n",
    "Relevant Function: Look into scipy.stats.pearsonr. This function takes two arrays as inputs and returns the Pearson correlation coefficient along with the p-value for testing non-correlation.\n",
    "\n",
    "------\n",
    "Linear Regression Analysis\n",
    "\n",
    "Library: Again, SciPy is useful for this task.\n",
    "\n",
    "Relevant Function: Explore scipy.stats.linregress. It performs a linear regression on two arrays and returns several values, including slope, intercept, r-value, p-value, and standard error of the estimate.\n",
    "\n",
    "\n",
    "------\n",
    "Plotting the Line of Best Fit and Scatter Plot\n",
    "\n",
    "Library: Use Matplotlib for visualization.\n",
    "\n",
    "Plotting the Scatter Plot: Utilize matplotlib.pyplot.scatter to create a scatter plot of the x and y data points.\n",
    "\n",
    "Plotting the Line of Best Fit: After obtaining the slope and intercept from the linear regression, you can generate values for the y-axis (let's call this y_fit) using the formula y_fit = slope * x + intercept. \n",
    "\n",
    "Then, use matplotlib.pyplot.plot to draw the line of best fit over your scatter plot. Remember to label your axes and perhaps give a title to your plot for clarity."
   ]
  },
  {
   "cell_type": "markdown",
   "metadata": {},
   "source": [
    "### Question 5:\n",
    "\n",
    "Assume you have two sets of data representing the scores of students from two different classes on a math test. Use SciPy to perform a t-test to determine if there is a significant difference between the mean scores of the two classes. Interpret the results.\n",
    "\n",
    "class_a_scores = [88, 92, 75, 89, 92, 78, 95, 84, 88, 91]\n",
    "class_b_scores = [82, 83, 77, 85, 86, 87, 88, 89, 90, 91]\n",
    "\n",
    "Explain the meaning of the p-value obtained from the t-test.\n",
    "\n",
    "<!--\n",
    "You're tasked with determining if there is a significant difference between the scores of students from two different classes using a t-test. Here's how you can approach this task with SciPy:\n",
    "\n",
    "#### Library to Use\n",
    "- **SciPy**: This library contains functions specifically designed for scientific computing, including statistical tests.\n",
    "\n",
    "#### Relevant Function\n",
    "- **Function for T-Test**: Look into `scipy.stats.ttest_ind`. This function is used to calculate the T-test for the means of two independent samples of scores.\n",
    "\n",
    "#### Parameters to Consider\n",
    "- **Sample Arrays**: Your inputs will be the two lists of scores you have, `class_a_scores` and `class_b_scores`.\n",
    "- **Equal Variances**: Consider the `equal_var` parameter, which should be set based on the assumption of equal variances between the two datasets. The default setting is `True`, but assess whether this assumption holds for your datasets.\n",
    "\n",
    "#### Interpreting the Results\n",
    "- After performing the t-test, you'll obtain a test statistic and a p-value.\n",
    "- **P-Value**: This value helps you determine the significance of the results. Generally, a p-value less than 0.05 is considered to indicate a statistically significant difference between the means of the two samples.\n",
    "\n",
    "#### Task\n",
    "Use the `ttest_ind` function from `scipy.stats` to compare `class_a_scores` and `class_b_scores`. Then, interpret the p-value obtained from your test to conclude if there's a statistically significant difference in the mean scores of the two classes.\n",
    "-->\n"
   ]
  },
  {
   "cell_type": "code",
   "execution_count": null,
   "metadata": {},
   "outputs": [],
   "source": []
  },
  {
   "cell_type": "markdown",
   "metadata": {},
   "source": [
    "# **Statistics Theory Section C**\n",
    "\n",
    "### Question 1: Histograms and Distributions\n",
    "Create a Python script using Matplotlib or any other plotting library to generate a histogram of a sample dataset. Briefly describe what a histogram represents and how it can give insights into the distribution of the data.\n",
    "\n",
    "### Question 2: Probability Distributions\n",
    "Explain the difference between a normal distribution and an exponential distribution. Provide a Python example using NumPy to generate a set of data points that follow each distribution.\n",
    "\n",
    "### Question 3: The Normal Distribution\n",
    "Given a dataset, use SciPy or a similar library to calculate the probability of a data point falling within one standard deviation from the mean. Explain the significance of the result in the context of the normal distribution.\n",
    "\n",
    "### Question 4: Mean, Median, and Mode\n",
    "Write a Python function that takes a list of numbers and returns the mean, median, and mode. Describe a scenario where the median is a better measure of central tendency than the mean.\n",
    "\n",
    "### Question 5: Descriptive Statistics\n",
    "Using Pandas, load a dataset and compute the mean, variance, and standard deviation of a specific column. Explain how each measure contributes to understanding the distribution of the data.\n",
    "\n",
    "### Question 6: Understanding Mathematical Models\n",
    "In your own words, explain what a mathematical model is and give an example of how one might be used in predicting stock prices.\n",
    "\n",
    "### Question 7: Sampling from a Distribution\n",
    "Demonstrate how to sample from a normal distribution using NumPy. Explain why sampling is an important technique in statistics.\n",
    "\n",
    "### Question 8: Hypothesis Testing\n",
    "Describe the steps involved in conducting a hypothesis test. Using a simple dataset, perform a hypothesis test in Python to determine if the mean of the dataset is significantly different from a given value.\n",
    "\n",
    "### Question 9: p-values and Statistical Significance\n",
    "Explain what a p-value represents in the context of hypothesis testing. Provide an example of how to interpret a p-value in deciding whether to reject a null hypothesis.\n",
    "\n",
    "### Question 10: Confidence Intervals\n",
    "Using a sample dataset, calculate a 95% confidence interval for the mean using Python. Explain what the confidence interval tells you about the population mean."
   ]
  },
  {
   "cell_type": "markdown",
   "metadata": {},
   "source": []
  }
 ],
 "metadata": {
  "kernelspec": {
   "display_name": "charles_yap_yc",
   "language": "python",
   "name": "python3"
  },
  "language_info": {
   "codemirror_mode": {
    "name": "ipython",
    "version": 3
   },
   "file_extension": ".py",
   "mimetype": "text/x-python",
   "name": "python",
   "nbconvert_exporter": "python",
   "pygments_lexer": "ipython3",
   "version": "3.9.18"
  }
 },
 "nbformat": 4,
 "nbformat_minor": 2
}
